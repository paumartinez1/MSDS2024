{
 "cells": [
  {
   "cell_type": "code",
   "execution_count": 1,
   "id": "46f442ba-a377-4e44-9174-e85f28322dd3",
   "metadata": {
    "tags": []
   },
   "outputs": [],
   "source": [
    "import pandas as pd\n",
    "import numpy as np\n",
    "import re\n",
    "from collections import Counter\n",
    "import requests\n",
    "import bs4\n",
    "import sqlite3\n",
    "import time\n",
    "from getpass import getpass\n",
    "from urllib.parse import urljoin\n",
    "\n",
    "HTML('''\n",
    "<script\n",
    "    src=\"https://cdnjs.cloudflare.com/ajax/libs/jquery/2.0.3/jquery.min.js \">\n",
    "</script>\n",
    "<script>\n",
    "code_show=true; \n",
    "function code_toggle() {\n",
    " if (code_show){\n",
    " $('div.jp-CodeCell > div.jp-Cell-inputWrapper').hide();\n",
    " } else {\n",
    "$('div.jp-CodeCell > div.jp-Cell-inputWrapper').show();\n",
    " }\n",
    " code_show = !code_show\n",
    "} \n",
    "$( document ).ready(code_toggle);\n",
    "</script>\n",
    "<form action=\"javascript:code_toggle()\"><input type=\"submit\"\n",
    "    value=\"Click here to toggle on/off the raw code.\"></form>\n",
    "''')"
   ]
  },
  {
   "cell_type": "markdown",
   "id": "810f6cdf-aa6c-47ea-8129-d425231e6aa9",
   "metadata": {
    "tags": []
   },
   "source": [
    "<div style=\"background-color: #6d03ba; padding: 10px 0;\">\n",
    "    <center><h1 style=\"color: white; font-family:Roboto; font-weight:bold\">SPOTIFY DATA EXTRACTION VIA API AND WEB SCRAPING</h1></center>\n",
    "</div> "
   ]
  },
  {
   "cell_type": "markdown",
   "id": "17e1d661-0a70-4ab2-964c-2be696128f67",
   "metadata": {},
   "source": [
    "Embarking on the Spotify API journey, we unraveled the complexity of 35-40 calls, extracting in-depth data on artists, songs, and playlists. From securing access tokens with a developer account to maneuvering around Spotify's strict quota, we faced nuanced challenges. The time constraint, with tokens expiring every hour, added a constant challenge, influencing our approach for efficient data extraction. Join us in exploring the technical intricacies of mastering Spotify's API, offering insights for developers in the realm of digital music analysis."
   ]
  },
  {
   "cell_type": "markdown",
   "id": "8c83e15d-9132-4d7c-aa92-af85fc970a12",
   "metadata": {
    "tags": []
   },
   "source": [
    "<div style=\"background-color: #fc8709; padding: 10px 0;\">\n",
    "    <center><h2 style=\"color: white; font-family:Roboto; font-weight:bold\">STEP 1: Create Access Token</h2></center>"
   ]
  },
  {
   "cell_type": "markdown",
   "id": "fdbe388c-706b-4c77-930e-024b13b04a3a",
   "metadata": {},
   "source": [
    "Spotify's API calls require an access/bearer token.<br>\n",
    "The token can be acquired by using the **<i>\"token\"</i>** API call of Spotify."
   ]
  },
  {
   "cell_type": "code",
   "execution_count": 2,
   "id": "17ebf276-6525-478a-a7c8-0e5af342aa97",
   "metadata": {},
   "outputs": [
    {
     "name": "stdin",
     "output_type": "stream",
     "text": [
      " ········\n"
     ]
    }
   ],
   "source": [
    "# INPUT YOUR CLIENT ID HERE\n",
    "client_id = getpass()"
   ]
  },
  {
   "cell_type": "code",
   "execution_count": 3,
   "id": "f34a6244-5fd3-4fa4-bf95-3a8f9d3df4a5",
   "metadata": {},
   "outputs": [
    {
     "name": "stdin",
     "output_type": "stream",
     "text": [
      " ········\n"
     ]
    }
   ],
   "source": [
    "# INPUT YOUR CLIENT SECRET HERE\n",
    "client_secret = getpass()"
   ]
  },
  {
   "cell_type": "code",
   "execution_count": 4,
   "id": "45180e71-b8de-4b7d-9d84-aacb41421e35",
   "metadata": {
    "tags": []
   },
   "outputs": [],
   "source": [
    "def get_token(client_id, client_secret):\n",
    "    \"\"\"\n",
    "    Perform a Spotify API call and return an access token.\n",
    "    \n",
    "    Parameters:\n",
    "    -----------\n",
    "    client_id: str\n",
    "        Hexadecimal string that represents client id.\n",
    "    client_secret: str\n",
    "        Hexadecimal string that serves as unique client password.\n",
    "        \n",
    "    Returns:\n",
    "    --------\n",
    "    api_key: str\n",
    "        String that contains the Access Token.\n",
    "    \"\"\"\n",
    "    url = \"https://accounts.spotify.com/api/token\"\n",
    "    headers = {'Content-Type': 'application/x-www-form-urlencoded'}\n",
    "    params = {\n",
    "        'grant_type': 'client_credentials',\n",
    "        'client_id': client_id,\n",
    "        'client_secret': client_secret\n",
    "    }\n",
    "    response = requests.post(url, headers=headers, data=params).json()\n",
    "    api_key = response['access_token']\n",
    "    return api_key"
   ]
  },
  {
   "cell_type": "code",
   "execution_count": 5,
   "id": "28b538f4-815c-4198-b4ba-69f625c3a0bb",
   "metadata": {},
   "outputs": [],
   "source": [
    "api_key = get_token(client_id, client_secret)"
   ]
  },
  {
   "cell_type": "markdown",
   "id": "ccf88618-469c-4b82-88f3-373f48268a7f",
   "metadata": {
    "tags": []
   },
   "source": [
    "<div style=\"background-color: #fc8709; padding: 10px 0;\">\n",
    "    <center><h2 style=\"color: white; font-family:Roboto; font-weight:bold\">STEP 2: Retrieve Tracks from All Genres</h2></center>"
   ]
  },
  {
   "cell_type": "markdown",
   "id": "51267edb-f8d4-4f68-a6f7-02a6c2efb007",
   "metadata": {},
   "source": [
    "To create a diverse pool of songs to perform PCA on, Spotify's API can provide a list of available genres.<br>\n",
    "We can then use an API call that gives recommendations per genre, this will give us a list of track ids to be used in the next step."
   ]
  },
  {
   "cell_type": "code",
   "execution_count": 6,
   "id": "1a8e5972-7576-4a72-baa2-8d8e1c97dd68",
   "metadata": {},
   "outputs": [],
   "source": [
    "# Extract list of available genres on Spotify\n",
    "genres = requests.get('https://api.spotify.com/v1/recommendations/'\n",
    "                      'available-genre-seeds',\n",
    "                      headers={'Authorization': f'Bearer {api_key}'}\n",
    "                     ).json()['genres']\n",
    "\n",
    "# Extract track_ids recommendations for each genre\n",
    "track_ids = set()\n",
    "for genre in genres:\n",
    "    time.sleep(2)\n",
    "    response = requests.get(f'https://api.spotify.com/v1/recommendations?'\n",
    "                            f'seed_genres={genre}&'\n",
    "                            f'limit=10',\n",
    "                            headers={'Authorization': f'Bearer {api_key}'}\n",
    "                           ).json()\n",
    "    for track in response['tracks']:\n",
    "        track_ids.add(track['id'])\n",
    "track_ids = list(track_ids)"
   ]
  },
  {
   "cell_type": "markdown",
   "id": "902aa780-d3bc-40b9-932b-525fd3401592",
   "metadata": {},
   "source": [
    "<div style=\"background-color: #1ccf54; padding: 10px 0;\">\n",
    "    <center><h3 style=\"color: white; font-family:Roboto; font-weight:bold\">Get the audio features per track</h3></center>"
   ]
  },
  {
   "cell_type": "markdown",
   "id": "154e2408-26c5-474a-abe0-92ab360e07e5",
   "metadata": {},
   "source": [
    "The **<i>audio-features</i>** API call will give us the audio features of each track upon providing its id.<br>\n",
    "Web-scraping can give us the name of the song and the artist."
   ]
  },
  {
   "cell_type": "code",
   "execution_count": 7,
   "id": "e64101ee-b9bc-4c3b-9188-7fc50f8a394b",
   "metadata": {
    "tags": []
   },
   "outputs": [],
   "source": [
    "def audio_features(track_ids):\n",
    "    \"\"\"\n",
    "    Return a dataframe that contains information on each track\n",
    "    \n",
    "    Parameters:\n",
    "    -----------\n",
    "    track_ids: array_like\n",
    "        An iterable of strings that correspond to id's of Spotify tracks\n",
    "        \n",
    "    Returns:\n",
    "    --------\n",
    "    df_tracks: pandas.DataFrame\n",
    "        Dataframe that contains audio_featurs, url, track_name, artist\n",
    "        for each track\n",
    "    \"\"\"\n",
    "    # Group track ids in batches of 100\n",
    "    batches = [','.join(track_ids[i:i+100]) for i in \n",
    "           range(0, len(track_ids), 100)]\n",
    "    # Get the audio features for each track\n",
    "    stats = []\n",
    "    for track_ids in batches:\n",
    "        time.sleep(2)\n",
    "        url = f'https://api.spotify.com/v1/audio-features?ids={track_ids}'\n",
    "        headers = {'Authorization': f'Bearer {api_key}'}\n",
    "        content = requests.get(url, headers=headers).json()['audio_features']\n",
    "        stats.extend(content)\n",
    "    # Retrieve only the relevant stats and return a dataframe\n",
    "    dict_stats = {}\n",
    "    for stat in stats:\n",
    "        for key, value in stat.items():\n",
    "            if key not in dict_stats:\n",
    "                dict_stats[key] = [value]\n",
    "            else:\n",
    "                dict_stats[key].append(value)\n",
    "    df_tracks = pd.DataFrame(dict_stats)\n",
    "    # Retrieve artists and track_name of tracks\n",
    "    artists = []\n",
    "    track_name = []\n",
    "    base_url = 'https://open.spotify.com/track/'\n",
    "    links = [urljoin(base_url, id_) for id_ in df_tracks['id']]\n",
    "    for link in links:\n",
    "        time.sleep(2)\n",
    "        content = requests.get(link).content\n",
    "        soup = bs4.BeautifulSoup(content)\n",
    "        artists.append(soup.find('a').text)\n",
    "        track_name.append(soup.find('h1').text)\n",
    "    df_tracks['artist'] = artists\n",
    "    df_tracks['track_name'] = track_name\n",
    "    return df_tracks"
   ]
  },
  {
   "cell_type": "code",
   "execution_count": 8,
   "id": "949be891-c9a2-4c8b-ab12-a6a34dd20685",
   "metadata": {},
   "outputs": [],
   "source": [
    "df_tracks = audio_features(track_ids)\n",
    "df_tracks.drop_duplicates(subset='id', inplace=True, ignore_index=True)\n",
    "df_tracks.to_csv('track_pool.csv', index=False)"
   ]
  },
  {
   "cell_type": "markdown",
   "id": "876f7846-8a52-4f1b-aacd-9585bfa139bf",
   "metadata": {},
   "source": [
    "<div style=\"background-color: #fc8709; padding: 10px 0;\">\n",
    "    <center><h2 style=\"color: white; font-family:Roboto; font-weight:bold\">STEP 3: Retrieve User Top Tracks for Implementation</h2></center>"
   ]
  },
  {
   "cell_type": "markdown",
   "id": "10238484-3f8d-4aa6-a575-c730eb7bbd85",
   "metadata": {},
   "source": [
    "Create a new access token to avoid errors due to expired tokens.<br>\n",
    "The data extracted here will be used to assign musical archetypes to users."
   ]
  },
  {
   "cell_type": "code",
   "execution_count": 9,
   "id": "5c18ec12-26a7-44e9-9460-33167eeee1af",
   "metadata": {},
   "outputs": [
    {
     "name": "stdin",
     "output_type": "stream",
     "text": [
      " ········\n"
     ]
    }
   ],
   "source": [
    "# INPUT YOUR CLIENT ID HERE\n",
    "client_id = getpass()"
   ]
  },
  {
   "cell_type": "code",
   "execution_count": 10,
   "id": "25e4def5-9a6f-4a46-bf78-563dbf73954f",
   "metadata": {},
   "outputs": [
    {
     "name": "stdin",
     "output_type": "stream",
     "text": [
      " ········\n"
     ]
    }
   ],
   "source": [
    "# INPUT YOUR CLIENT SECRET HERE\n",
    "client_secret = getpass()"
   ]
  },
  {
   "cell_type": "code",
   "execution_count": 11,
   "id": "81ebba23-6863-4c48-b713-8ff8e5cb3d04",
   "metadata": {},
   "outputs": [],
   "source": [
    "api_key = get_token(client_id, client_secret)"
   ]
  },
  {
   "cell_type": "code",
   "execution_count": 12,
   "id": "b8f061d0-1a2b-45fe-bae6-c868f7acfecc",
   "metadata": {
    "tags": []
   },
   "outputs": [],
   "source": [
    "df_user = pd.read_csv('user_tracks.csv')\n",
    "user_track_ids = df_user['track_id'].to_list()\n",
    "user_tracks = audio_features(user_track_ids)\n",
    "user_tracks['user'] = df_user['Name'].to_list()\n",
    "user_tracks.to_csv('top_tracks.csv', index=False)"
   ]
  },
  {
   "cell_type": "markdown",
   "id": "247f867b-455a-4602-8d88-35e46525bea1",
   "metadata": {},
   "source": [
    "<div style=\"background-color: #1ccf54; padding: 10px 0;\">\n",
    "    <center><h1 style=\"color: white; font-family:Roboto; font-weight:bold\">Recommendations</h1></center>"
   ]
  },
  {
   "cell_type": "markdown",
   "id": "40cd3ed5-442a-4396-a791-d4033737eb5a",
   "metadata": {},
   "source": [
    "To optimize your experience, here's a set of recommendations tailored for new developers, ensuring a seamless introduction to the Spotify API landscape.\n",
    " \n",
    "Start by familiarizing yourself with the different endpoints available in the Spotify API. From artists to playlists, there's many waiting to be uncovered.\n",
    " \n",
    "Token Crafting:\n",
    "Then, understand the intricacies of token management. Understanding how to request, refresh, and utilize access tokens will keep your API interactions efficient.\n",
    " \n",
    "Respect the rate limits to ensure your API calls flow smoothly. Strategic pacing will prevent interruptions in your data collection process.\n",
    " \n",
    "Dive into the documentation to understand each endpoint's parameters, responses, and nuances. It's your roadmap to the perfect API call. A key to effeciency, reading the documentation is crucial to avoid request timeouts or 429 errors.\n",
    " \n",
    "Optimize your API requests by selecting only the data you need. This collection reduces unnecessary data transfer, making your applications perform efficiently."
   ]
  }
 ],
 "metadata": {
  "kernelspec": {
   "display_name": "Python 3 (ipykernel)",
   "language": "python",
   "name": "python3"
  },
  "language_info": {
   "codemirror_mode": {
    "name": "ipython",
    "version": 3
   },
   "file_extension": ".py",
   "mimetype": "text/x-python",
   "name": "python",
   "nbconvert_exporter": "python",
   "pygments_lexer": "ipython3",
   "version": "3.10.12"
  }
 },
 "nbformat": 4,
 "nbformat_minor": 5
}
